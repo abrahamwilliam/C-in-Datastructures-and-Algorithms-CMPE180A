{
  "nbformat": 4,
  "nbformat_minor": 0,
  "metadata": {
    "colab": {
      "name": "CalorieDetector.ipynb",
      "provenance": [],
      "collapsed_sections": [],
      "include_colab_link": true
    },
    "kernelspec": {
      "name": "python3",
      "display_name": "Python 3"
    }
  },
  "cells": [
    {
      "cell_type": "markdown",
      "metadata": {
        "id": "view-in-github",
        "colab_type": "text"
      },
      "source": [
        "<a href=\"https://colab.research.google.com/github/abrahamwilliam/C-in-Datastructures-and-Algorithms-CMPE180A/blob/master/CalorieDetector.ipynb\" target=\"_parent\"><img src=\"https://colab.research.google.com/assets/colab-badge.svg\" alt=\"Open In Colab\"/></a>"
      ]
    },
    {
      "cell_type": "code",
      "metadata": {
        "id": "h4cGnjc4Wsui",
        "colab_type": "code",
        "colab": {}
      },
      "source": [
        "from __future__ import absolute_import, division, print_function\n",
        "\n",
        "import tensorflow as tf\n",
        "\n",
        "import tensorflow.keras.backend as K\n",
        "from tensorflow.keras.models import load_model\n",
        "from tensorflow.keras.preprocessing import image\n",
        "from tensorflow.keras import regularizers\n",
        "from tensorflow.keras.applications.inception_v3 import InceptionV3\n",
        "from tensorflow.keras.models import Model\n",
        "from tensorflow.keras.layers import Dense, Dropout\n",
        "from tensorflow.keras.layers import GlobalAveragePooling2D\n",
        "from tensorflow.keras.preprocessing.image import ImageDataGenerator\n",
        "from tensorflow.keras.callbacks import ModelCheckpoint, CSVLogger\n",
        "from tensorflow.keras.optimizers import SGD\n",
        "from tensorflow.keras.regularizers import l2\n",
        "\n",
        "from tensorflow import keras\n",
        "from tensorflow.keras import models\n",
        "from tensorflow.keras.applications.inception_v3 import preprocess_input\n",
        "\n",
        "import cv2\n",
        "import os\n",
        "import random\n",
        "import collections\n",
        "from collections import defaultdict\n",
        "\n",
        "from shutil import copy\n",
        "from shutil import copytree, rmtree\n",
        "\n",
        "import numpy as np\n",
        "\n",
        "import matplotlib.pyplot as plt\n",
        "import matplotlib.image as img\n",
        "%matplotlib inline"
      ],
      "execution_count": 0,
      "outputs": []
    },
    {
      "cell_type": "code",
      "metadata": {
        "id": "uUgQoF8FXaXm",
        "colab_type": "code",
        "colab": {}
      },
      "source": [
        "\n",
        "def get_data_extract():\n",
        "  if \"food-101\" in os.listdir():\n",
        "    print(\"Dataset already exists\")\n",
        "  else:\n",
        "    tf.keras.utils.get_file(\n",
        "    'food-101.tar.gz',\n",
        "    'http://data.vision.ee.ethz.ch/cvl/food-101.tar.gz',\n",
        "    cache_subdir='/content',\n",
        "    extract=True,\n",
        "    archive_format='tar',\n",
        "    cache_dir=None\n",
        "    )\n",
        "    print(\"Dataset downloaded and extracted!\")"
      ],
      "execution_count": 0,
      "outputs": []
    },
    {
      "cell_type": "code",
      "metadata": {
        "id": "QUB0YFuFhz6a",
        "colab_type": "code",
        "outputId": "ecc9f955-0947-4b07-95dd-4f4695286db1",
        "colab": {
          "base_uri": "https://localhost:8080/",
          "height": 67
        }
      },
      "source": [
        "get_data_extract()"
      ],
      "execution_count": 0,
      "outputs": [
        {
          "output_type": "stream",
          "text": [
            "Downloading data from http://data.vision.ee.ethz.ch/cvl/food-101.tar.gz\n",
            "4996284416/4996278331 [==============================] - 412s 0us/step\n",
            "Dataset downloaded and extracted!\n"
          ],
          "name": "stdout"
        }
      ]
    },
    {
      "cell_type": "code",
      "metadata": {
        "id": "1WdlrTQLh3Hb",
        "colab_type": "code",
        "outputId": "6d104e4d-1906-4a3a-d14f-1e20726cb3b7",
        "colab": {
          "base_uri": "https://localhost:8080/",
          "height": 34
        }
      },
      "source": [
        "os.listdir('food-101/')"
      ],
      "execution_count": 0,
      "outputs": [
        {
          "output_type": "execute_result",
          "data": {
            "text/plain": [
              "['images', 'license_agreement.txt', 'meta', 'README.txt']"
            ]
          },
          "metadata": {
            "tags": []
          },
          "execution_count": 10
        }
      ]
    },
    {
      "cell_type": "code",
      "metadata": {
        "id": "Ih6zkSrZi8bQ",
        "colab_type": "code",
        "colab": {}
      },
      "source": [
        "# Helper method to split dataset into train and test folders\n",
        "def prepare_data(filepath, src,dest):\n",
        "  classes_images = defaultdict(list)\n",
        "  with open(filepath, 'r') as txt:\n",
        "      paths = [read.strip() for read in txt.readlines()]\n",
        "      for p in paths:\n",
        "        food = p.split('/')\n",
        "        classes_images[food[0]].append(food[1] + '.jpg')\n",
        "\n",
        "  for food in classes_images.keys():\n",
        "    print(\"\\nCopying images into \",food)\n",
        "    if not os.path.exists(os.path.join(dest,food)):\n",
        "      os.makedirs(os.path.join(dest,food))\n",
        "    for i in classes_images[food]:\n",
        "      copy(os.path.join(src,food,i), os.path.join(dest,food,i))\n",
        "  print(\"Copying Done!\")"
      ],
      "execution_count": 0,
      "outputs": []
    },
    {
      "cell_type": "code",
      "metadata": {
        "id": "6WulE57FjiwE",
        "colab_type": "code",
        "outputId": "b9bb1ec1-1ce2-49d5-fb1b-9eac36db8f4d",
        "colab": {
          "base_uri": "https://localhost:8080/",
          "height": 128
        }
      },
      "source": [
        "//print(\"Creating train data...\")\n",
        "prepare_data('food-101/meta/train.txt', 'food-101/images', 'food-101/train')"
      ],
      "execution_count": 0,
      "outputs": [
        {
          "output_type": "error",
          "ename": "SyntaxError",
          "evalue": "ignored",
          "traceback": [
            "\u001b[0;36m  File \u001b[0;32m\"<ipython-input-12-c8c09984ec65>\"\u001b[0;36m, line \u001b[0;32m1\u001b[0m\n\u001b[0;31m    (/print(\"Creating, train, data...\"))\u001b[0m\n\u001b[0m     ^\u001b[0m\n\u001b[0;31mSyntaxError\u001b[0m\u001b[0;31m:\u001b[0m invalid syntax\n"
          ]
        }
      ]
    },
    {
      "cell_type": "code",
      "metadata": {
        "id": "Q1dTIR3vlHq0",
        "colab_type": "code",
        "colab": {}
      },
      "source": [
        "from google.colab import drive\n",
        "drive.mount('/content/drive')"
      ],
      "execution_count": 0,
      "outputs": []
    },
    {
      "cell_type": "markdown",
      "metadata": {
        "id": "2QraqA82lJis",
        "colab_type": "text"
      },
      "source": [
        "# New Section"
      ]
    },
    {
      "cell_type": "code",
      "metadata": {
        "id": "wiNCChgQjlIj",
        "colab_type": "code",
        "outputId": "65268d4f-9edd-41a3-e620-fcc3a1690080",
        "colab": {
          "base_uri": "https://localhost:8080/",
          "height": 1000
        }
      },
      "source": [
        "# print(\"Creating test data...\")\n",
        "prepare_data('food-101/meta/test.txt', 'food-101/images', 'food-101/test')"
      ],
      "execution_count": 0,
      "outputs": [
        {
          "output_type": "stream",
          "text": [
            "Creating test data...\n",
            "\n",
            "Copying images into  apple_pie\n",
            "\n",
            "Copying images into  baby_back_ribs\n",
            "\n",
            "Copying images into  baklava\n",
            "\n",
            "Copying images into  beef_carpaccio\n",
            "\n",
            "Copying images into  beef_tartare\n",
            "\n",
            "Copying images into  beet_salad\n",
            "\n",
            "Copying images into  beignets\n",
            "\n",
            "Copying images into  bibimbap\n",
            "\n",
            "Copying images into  bread_pudding\n",
            "\n",
            "Copying images into  breakfast_burrito\n",
            "\n",
            "Copying images into  bruschetta\n",
            "\n",
            "Copying images into  caesar_salad\n",
            "\n",
            "Copying images into  cannoli\n",
            "\n",
            "Copying images into  caprese_salad\n",
            "\n",
            "Copying images into  carrot_cake\n",
            "\n",
            "Copying images into  ceviche\n",
            "\n",
            "Copying images into  cheesecake\n",
            "\n",
            "Copying images into  cheese_plate\n",
            "\n",
            "Copying images into  chicken_curry\n",
            "\n",
            "Copying images into  chicken_quesadilla\n",
            "\n",
            "Copying images into  chicken_wings\n",
            "\n",
            "Copying images into  chocolate_cake\n",
            "\n",
            "Copying images into  chocolate_mousse\n",
            "\n",
            "Copying images into  churros\n",
            "\n",
            "Copying images into  clam_chowder\n",
            "\n",
            "Copying images into  club_sandwich\n",
            "\n",
            "Copying images into  crab_cakes\n",
            "\n",
            "Copying images into  creme_brulee\n",
            "\n",
            "Copying images into  croque_madame\n",
            "\n",
            "Copying images into  cup_cakes\n",
            "\n",
            "Copying images into  deviled_eggs\n",
            "\n",
            "Copying images into  donuts\n",
            "\n",
            "Copying images into  dumplings\n",
            "\n",
            "Copying images into  edamame\n",
            "\n",
            "Copying images into  eggs_benedict\n",
            "\n",
            "Copying images into  escargots\n",
            "\n",
            "Copying images into  falafel\n",
            "\n",
            "Copying images into  filet_mignon\n",
            "\n",
            "Copying images into  fish_and_chips\n",
            "\n",
            "Copying images into  foie_gras\n",
            "\n",
            "Copying images into  french_fries\n",
            "\n",
            "Copying images into  french_onion_soup\n",
            "\n",
            "Copying images into  french_toast\n",
            "\n",
            "Copying images into  fried_calamari\n",
            "\n",
            "Copying images into  fried_rice\n",
            "\n",
            "Copying images into  frozen_yogurt\n",
            "\n",
            "Copying images into  garlic_bread\n",
            "\n",
            "Copying images into  gnocchi\n",
            "\n",
            "Copying images into  greek_salad\n",
            "\n",
            "Copying images into  grilled_cheese_sandwich\n",
            "\n",
            "Copying images into  grilled_salmon\n",
            "\n",
            "Copying images into  guacamole\n",
            "\n",
            "Copying images into  gyoza\n",
            "\n",
            "Copying images into  hamburger\n",
            "\n",
            "Copying images into  hot_and_sour_soup\n",
            "\n",
            "Copying images into  hot_dog\n",
            "\n",
            "Copying images into  huevos_rancheros\n",
            "\n",
            "Copying images into  hummus\n",
            "\n",
            "Copying images into  ice_cream\n",
            "\n",
            "Copying images into  lasagna\n",
            "\n",
            "Copying images into  lobster_bisque\n",
            "\n",
            "Copying images into  lobster_roll_sandwich\n",
            "\n",
            "Copying images into  macaroni_and_cheese\n",
            "\n",
            "Copying images into  macarons\n",
            "\n",
            "Copying images into  miso_soup\n",
            "\n",
            "Copying images into  mussels\n",
            "\n",
            "Copying images into  nachos\n",
            "\n",
            "Copying images into  omelette\n",
            "\n",
            "Copying images into  onion_rings\n",
            "\n",
            "Copying images into  oysters\n",
            "\n",
            "Copying images into  pad_thai\n",
            "\n",
            "Copying images into  paella\n",
            "\n",
            "Copying images into  pancakes\n",
            "\n",
            "Copying images into  panna_cotta\n",
            "\n",
            "Copying images into  peking_duck\n",
            "\n",
            "Copying images into  pho\n",
            "\n",
            "Copying images into  pizza\n",
            "\n",
            "Copying images into  pork_chop\n",
            "\n",
            "Copying images into  poutine\n",
            "\n",
            "Copying images into  prime_rib\n",
            "\n",
            "Copying images into  pulled_pork_sandwich\n",
            "\n",
            "Copying images into  ramen\n",
            "\n",
            "Copying images into  ravioli\n",
            "\n",
            "Copying images into  red_velvet_cake\n",
            "\n",
            "Copying images into  risotto\n",
            "\n",
            "Copying images into  samosa\n",
            "\n",
            "Copying images into  sashimi\n",
            "\n",
            "Copying images into  scallops\n",
            "\n",
            "Copying images into  seaweed_salad\n",
            "\n",
            "Copying images into  shrimp_and_grits\n",
            "\n",
            "Copying images into  spaghetti_bolognese\n",
            "\n",
            "Copying images into  spaghetti_carbonara\n",
            "\n",
            "Copying images into  spring_rolls\n",
            "\n",
            "Copying images into  steak\n",
            "\n",
            "Copying images into  strawberry_shortcake\n",
            "\n",
            "Copying images into  sushi\n",
            "\n",
            "Copying images into  tacos\n",
            "\n",
            "Copying images into  takoyaki\n",
            "\n",
            "Copying images into  tiramisu\n",
            "\n",
            "Copying images into  tuna_tartare\n",
            "\n",
            "Copying images into  waffles\n",
            "Copying Done!\n"
          ],
          "name": "stdout"
        }
      ]
    },
    {
      "cell_type": "code",
      "metadata": {
        "id": "zvx4UTjYjoRs",
        "colab_type": "code",
        "outputId": "9f1c0cc0-86c9-41e4-c7d3-38af12798714",
        "colab": {
          "base_uri": "https://localhost:8080/",
          "height": 50
        }
      },
      "source": [
        "\n",
        "train_files = sum([len(files) for i, j, files in os.walk(\"food-101/train\")])\n",
        "print(\"Total number of samples in train folder\")\n",
        "print(train_files)"
      ],
      "execution_count": 0,
      "outputs": [
        {
          "output_type": "stream",
          "text": [
            "Total number of samples in train folder\n",
            "75750\n"
          ],
          "name": "stdout"
        }
      ]
    },
    {
      "cell_type": "code",
      "metadata": {
        "id": "1Nf5xC1KjwbA",
        "colab_type": "code",
        "outputId": "95a046c1-a998-4fda-c58d-c9822added1a",
        "colab": {
          "base_uri": "https://localhost:8080/",
          "height": 50
        }
      },
      "source": [
        "# Check how many files are in the test folder\n",
        "test_files = sum([len(files) for i, j, files in os.walk(\"food-101/test\")])\n",
        "print(\"Total number of samples in test folder\")\n",
        "print(test_files)"
      ],
      "execution_count": 0,
      "outputs": [
        {
          "output_type": "stream",
          "text": [
            "Total number of samples in test folder\n",
            "25250\n"
          ],
          "name": "stdout"
        }
      ]
    },
    {
      "cell_type": "code",
      "metadata": {
        "id": "5IFZzjWPjy65",
        "colab_type": "code",
        "outputId": "31ca536a-04b5-4653-d5ee-9744977d7ce8",
        "colab": {
          "base_uri": "https://localhost:8080/",
          "height": 586
        }
      },
      "source": [
        "import pandas as pd\n",
        "import numpy as np\n",
        "import keras\n",
        "import glob\n",
        "import matplotlib.pyplot as plt\n",
        "import scipy\n",
        "import seaborn as sns\n",
        "from mlxtend.preprocessing import minmax_scaling\n",
        "from sklearn.metrics import roc_curve, auc\n",
        "\n",
        "\n",
        "from keras.utils.np_utils import to_categorical\n",
        "from keras.models import Sequential, Model\n",
        "from keras.layers import Dense, Dropout, Flatten, Conv2D, MaxPool2D, GlobalAveragePooling2D, Input, BatchNormalization, Multiply, Activation\n",
        "from keras.optimizers import RMSprop, SGD\n",
        "from keras.regularizers import l2\n",
        "from keras.preprocessing.image import ImageDataGenerator\n",
        "from keras.utils import plot_model\n",
        "from keras.callbacks import ReduceLROnPlateau, ModelCheckpoint, EarlyStopping\n",
        "from sklearn.metrics import accuracy_score\n",
        "from sklearn.metrics import confusion_matrix\n",
        "from tensorflow.keras import backend as K\n",
        "\n",
        "\n",
        "import os\n",
        "\n",
        "\n",
        "# find file paths\n",
        "# /content/food-101/test  /content/food-101/test/apple_pie  \n",
        "food = ['apple_pie','baby_back_ribs', 'baklava'] \n",
        "f_apple = glob.glob('/content/food-101/train/apple_pie/*')\n",
        "f_baby = glob.glob('/content/food-101/train/baby_back_ribs/*')\n",
        "f_baklava = glob.glob('/content/food-101/train/baklava/*')\n",
        "f_apple_test = glob.glob('/content/food-101/test/apple_pie/*')\n",
        "f_baby_test = glob.glob('/content/food-101/test/baby_back_ribs/*')\n",
        "f_baklava_test = glob.glob('/content/food-101/test/baklava/*')\n",
        "# total 1000 files for each category\n",
        "print('Number of images per class:\\n\\t\\ttrain\\ttest \\nApple_pie:\\t{}\\t{}\\nBaby_pork_ribs:\\t{}\\t{}\\nBaklava:\\t{}\\t{}'\n",
        "      .format(len(f_apple),len(f_apple_test),len(f_baby),len(f_baby_test),len(f_baklava),len(f_baklava_test)))"
      ],
      "execution_count": 0,
      "outputs": [
        {
          "output_type": "stream",
          "text": [
            "Using TensorFlow backend.\n",
            "/usr/local/lib/python3.6/dist-packages/tensorflow/python/framework/dtypes.py:516: FutureWarning: Passing (type, 1) or '1type' as a synonym of type is deprecated; in a future version of numpy, it will be understood as (type, (1,)) / '(1,)type'.\n",
            "  _np_qint8 = np.dtype([(\"qint8\", np.int8, 1)])\n",
            "/usr/local/lib/python3.6/dist-packages/tensorflow/python/framework/dtypes.py:517: FutureWarning: Passing (type, 1) or '1type' as a synonym of type is deprecated; in a future version of numpy, it will be understood as (type, (1,)) / '(1,)type'.\n",
            "  _np_quint8 = np.dtype([(\"quint8\", np.uint8, 1)])\n",
            "/usr/local/lib/python3.6/dist-packages/tensorflow/python/framework/dtypes.py:518: FutureWarning: Passing (type, 1) or '1type' as a synonym of type is deprecated; in a future version of numpy, it will be understood as (type, (1,)) / '(1,)type'.\n",
            "  _np_qint16 = np.dtype([(\"qint16\", np.int16, 1)])\n",
            "/usr/local/lib/python3.6/dist-packages/tensorflow/python/framework/dtypes.py:519: FutureWarning: Passing (type, 1) or '1type' as a synonym of type is deprecated; in a future version of numpy, it will be understood as (type, (1,)) / '(1,)type'.\n",
            "  _np_quint16 = np.dtype([(\"quint16\", np.uint16, 1)])\n",
            "/usr/local/lib/python3.6/dist-packages/tensorflow/python/framework/dtypes.py:520: FutureWarning: Passing (type, 1) or '1type' as a synonym of type is deprecated; in a future version of numpy, it will be understood as (type, (1,)) / '(1,)type'.\n",
            "  _np_qint32 = np.dtype([(\"qint32\", np.int32, 1)])\n",
            "/usr/local/lib/python3.6/dist-packages/tensorflow/python/framework/dtypes.py:525: FutureWarning: Passing (type, 1) or '1type' as a synonym of type is deprecated; in a future version of numpy, it will be understood as (type, (1,)) / '(1,)type'.\n",
            "  np_resource = np.dtype([(\"resource\", np.ubyte, 1)])\n",
            "/usr/local/lib/python3.6/dist-packages/tensorboard/compat/tensorflow_stub/dtypes.py:541: FutureWarning: Passing (type, 1) or '1type' as a synonym of type is deprecated; in a future version of numpy, it will be understood as (type, (1,)) / '(1,)type'.\n",
            "  _np_qint8 = np.dtype([(\"qint8\", np.int8, 1)])\n",
            "/usr/local/lib/python3.6/dist-packages/tensorboard/compat/tensorflow_stub/dtypes.py:542: FutureWarning: Passing (type, 1) or '1type' as a synonym of type is deprecated; in a future version of numpy, it will be understood as (type, (1,)) / '(1,)type'.\n",
            "  _np_quint8 = np.dtype([(\"quint8\", np.uint8, 1)])\n",
            "/usr/local/lib/python3.6/dist-packages/tensorboard/compat/tensorflow_stub/dtypes.py:543: FutureWarning: Passing (type, 1) or '1type' as a synonym of type is deprecated; in a future version of numpy, it will be understood as (type, (1,)) / '(1,)type'.\n",
            "  _np_qint16 = np.dtype([(\"qint16\", np.int16, 1)])\n",
            "/usr/local/lib/python3.6/dist-packages/tensorboard/compat/tensorflow_stub/dtypes.py:544: FutureWarning: Passing (type, 1) or '1type' as a synonym of type is deprecated; in a future version of numpy, it will be understood as (type, (1,)) / '(1,)type'.\n",
            "  _np_quint16 = np.dtype([(\"quint16\", np.uint16, 1)])\n",
            "/usr/local/lib/python3.6/dist-packages/tensorboard/compat/tensorflow_stub/dtypes.py:545: FutureWarning: Passing (type, 1) or '1type' as a synonym of type is deprecated; in a future version of numpy, it will be understood as (type, (1,)) / '(1,)type'.\n",
            "  _np_qint32 = np.dtype([(\"qint32\", np.int32, 1)])\n",
            "/usr/local/lib/python3.6/dist-packages/tensorboard/compat/tensorflow_stub/dtypes.py:550: FutureWarning: Passing (type, 1) or '1type' as a synonym of type is deprecated; in a future version of numpy, it will be understood as (type, (1,)) / '(1,)type'.\n",
            "  np_resource = np.dtype([(\"resource\", np.ubyte, 1)])\n"
          ],
          "name": "stderr"
        },
        {
          "output_type": "display_data",
          "data": {
            "text/html": [
              "<p style=\"color: red;\">\n",
              "The default version of TensorFlow in Colab will soon switch to TensorFlow 2.x.<br>\n",
              "We recommend you <a href=\"https://www.tensorflow.org/guide/migrate\" target=\"_blank\">upgrade</a> now \n",
              "or ensure your notebook will continue to use TensorFlow 1.x via the <code>%tensorflow_version 1.x</code> magic:\n",
              "<a href=\"https://colab.research.google.com/notebooks/tensorflow_version.ipynb\" target=\"_blank\">more info</a>.</p>\n"
            ],
            "text/plain": [
              "<IPython.core.display.HTML object>"
            ]
          },
          "metadata": {
            "tags": []
          }
        },
        {
          "output_type": "stream",
          "text": [
            "Number of images per class:\n",
            "\t\ttrain\ttest \n",
            "Apple_pie:\t750\t250\n",
            "Baby_pork_ribs:\t750\t250\n",
            "Baklava:\t750\t250\n"
          ],
          "name": "stdout"
        }
      ]
    },
    {
      "cell_type": "code",
      "metadata": {
        "id": "paOZcCsGk7bT",
        "colab_type": "code",
        "outputId": "2465d07e-38eb-4a30-f010-a063523f5bed",
        "colab": {
          "base_uri": "https://localhost:8080/",
          "height": 298
        }
      },
      "source": [
        "\n",
        "for i in range(len(f_apple)):\n",
        "    h1,w1,c1 = plt.imread(f_apple[i]).shape\n",
        "    h2,w2,c2 = plt.imread(f_baby[i]).shape\n",
        "    h3,w3,c3 = plt.imread(f_baklava[i]).shape\n",
        "    plt.scatter(h1,w1,c='r',marker='x',alpha=0.5)\n",
        "    plt.scatter(h2,w2,c='c',marker='o',alpha=0.5)\n",
        "    plt.scatter(h3,w3,c='b',marker='v',alpha=0.5)\n",
        "plt.title('Image Size')\n",
        "plt.legend(('apples','babies','baklavas'))"
      ],
      "execution_count": 0,
      "outputs": [
        {
          "output_type": "execute_result",
          "data": {
            "text/plain": [
              "<matplotlib.legend.Legend at 0x7f260d83cb38>"
            ]
          },
          "metadata": {
            "tags": []
          },
          "execution_count": 2
        },
        {
          "output_type": "display_data",
          "data": {
            "image/png": "[encoded data removed]",
            "text/plain": [
              "<Figure size 432x288 with 1 Axes>"
            ]
          },
          "metadata": {
            "tags": []
          }
        }
      ]
    },
    {
      "cell_type": "code",
      "metadata": {
        "id": "yaW7mmUFnPDg",
        "colab_type": "code",
        "outputId": "f9f169b7-755c-4878-854a-e7932962dfbd",
        "colab": {
          "base_uri": "https://localhost:8080/",
          "height": 229
        }
      },
      "source": [
        "train_datagen = ImageDataGenerator(featurewise_center=False,\n",
        "                 samplewise_center=False,\n",
        "                 featurewise_std_normalization=False,\n",
        "                 samplewise_std_normalization=False,\n",
        "                 zca_whitening=False,\n",
        "                 rotation_range=5,\n",
        "                 width_shift_range=0.05,\n",
        "                 height_shift_range=0.05,\n",
        "                 shear_range=0.2,\n",
        "                 zoom_range=0.2,\n",
        "                 channel_shift_range=0.,\n",
        "                 fill_mode='nearest',\n",
        "                 cval=0.,\n",
        "                 horizontal_flip=True,\n",
        "                 vertical_flip=False,\n",
        "                 rescale=1/255) \n",
        "\n",
        "\n"
      ],
      "execution_count": 0,
      "outputs": [
        {
          "output_type": "error",
          "ename": "NameError",
          "evalue": "ignored",
          "traceback": [
            "\u001b[0;31m---------------------------------------------------------------------------\u001b[0m",
            "\u001b[0;31mNameError\u001b[0m                                 Traceback (most recent call last)",
            "\u001b[0;32m<ipython-input-6-56173253be46>\u001b[0m in \u001b[0;36m<module>\u001b[0;34m()\u001b[0m\n\u001b[0;32m----> 1\u001b[0;31m train_datagen = ImageDataGenerator(featurewise_center=False,\n\u001b[0m\u001b[1;32m      2\u001b[0m                  \u001b[0msamplewise_center\u001b[0m\u001b[0;34m=\u001b[0m\u001b[0;32mFalse\u001b[0m\u001b[0;34m,\u001b[0m\u001b[0;34m\u001b[0m\u001b[0;34m\u001b[0m\u001b[0m\n\u001b[1;32m      3\u001b[0m                  \u001b[0mfeaturewise_std_normalization\u001b[0m\u001b[0;34m=\u001b[0m\u001b[0;32mFalse\u001b[0m\u001b[0;34m,\u001b[0m\u001b[0;34m\u001b[0m\u001b[0;34m\u001b[0m\u001b[0m\n\u001b[1;32m      4\u001b[0m                  \u001b[0msamplewise_std_normalization\u001b[0m\u001b[0;34m=\u001b[0m\u001b[0;32mFalse\u001b[0m\u001b[0;34m,\u001b[0m\u001b[0;34m\u001b[0m\u001b[0;34m\u001b[0m\u001b[0m\n\u001b[1;32m      5\u001b[0m                  \u001b[0mzca_whitening\u001b[0m\u001b[0;34m=\u001b[0m\u001b[0;32mFalse\u001b[0m\u001b[0;34m,\u001b[0m\u001b[0;34m\u001b[0m\u001b[0;34m\u001b[0m\u001b[0m\n",
            "\u001b[0;31mNameError\u001b[0m: name 'ImageDataGenerator' is not defined"
          ]
        }
      ]
    },
    {
      "cell_type": "code",
      "metadata": {
        "id": "zrki7VEipnZm",
        "colab_type": "code",
        "colab": {}
      },
      "source": [
        "import keras\n",
        "\n",
        "from keras.layers import Input, Dense, Conv2D, MaxPooling2D, AveragePooling2D, ZeroPadding2D, Dropout, Flatten, Concatenate, Reshape, Activation\n",
        "from keras.models import Model\n",
        "from keras.regularizers import l2\n",
        "from keras.optimizers import SGD\n",
        "\n",
        "from lrn import LRN\n",
        "\n",
        "\n",
        "\n",
        "from keras.layers.core import Layer\n",
        "\n",
        "\n",
        "class PoolHelper(Layer):\n",
        "\n",
        "    def __init__(self, **kwargs):\n",
        "        super(PoolHelper, self).__init__(**kwargs)\n",
        "\n",
        "    def call(self, x, mask=None):\n",
        "        return x[:,:,1:,1:]\n",
        "\n",
        "    def get_config(self):\n",
        "        config = {}\n",
        "        base_config = super(PoolHelper, self).get_config()\n",
        "        return dict(list(base_config.items()) + list(config.items()))\n",
        "\n",
        "model = Sequential()\n",
        "\n",
        "input = Input(shape=(3, 224, 224))\n",
        "input_pad = ZeroPadding2D(padding=(3, 3))(input)\n",
        "\n",
        "conv1_7x7_s2 = Conv2D(64, (7,7), strides=(2,2), padding='valid', activation='relu', name='conv1/7x7_s2', kernel_regularizer=l2(0.0002))(input_pad)\n",
        "conv1_zero_pad = ZeroPadding2D(padding=(1, 1))(conv1_7x7_s2)\n",
        "pool1_helper = PoolHelper()(conv1_zero_pad)\n",
        "pool1_3x3_s2 = MaxPooling2D(pool_size=(3,3), strides=(2,2), padding='valid', name='pool1/3x3_s2')(pool1_helper)\n",
        "pool1_norm1 = LRN(name='pool1/norm1')(pool1_3x3_s2)\n",
        "\n",
        "conv2_3x3_reduce = Conv2D(64, (1,1), padding='same', activation='relu', name='conv2/3x3_reduce', kernel_regularizer=l2(0.0002))(pool1_norm1)\n",
        "conv2_3x3 = Conv2D(192, (3,3), padding='same', activation='relu', name='conv2/3x3', kernel_regularizer=l2(0.0002))(conv2_3x3_reduce)\n",
        "conv2_norm2 = LRN(name='conv2/norm2')(conv2_3x3)\n",
        "conv2_zero_pad = ZeroPadding2D(padding=(1, 1))(conv2_norm2)\n",
        "pool2_helper = PoolHelper()(conv2_zero_pad)\n",
        "pool2_3x3_s2 = MaxPooling2D(pool_size=(3,3), strides=(2,2), padding='valid', name='pool2/3x3_s2')(pool2_helper)\n",
        "\n",
        "inception_3a_1x1 = Conv2D(64, (1,1), padding='same', activation='relu', name='inception_3a/1x1', kernel_regularizer=l2(0.0002))(pool2_3x3_s2)\n",
        "inception_3a_3x3_reduce = Conv2D(96, (1,1), padding='same', activation='relu', name='inception_3a/3x3_reduce', kernel_regularizer=l2(0.0002))(pool2_3x3_s2)\n",
        "inception_3a_3x3_pad = ZeroPadding2D(padding=(1, 1))(inception_3a_3x3_reduce)\n",
        "inception_3a_3x3 = Conv2D(128, (3,3), padding='valid', activation='relu', name='inception_3a/3x3', kernel_regularizer=l2(0.0002))(inception_3a_3x3_pad)\n",
        "inception_3a_5x5_reduce = Conv2D(16, (1,1), padding='same', activation='relu', name='inception_3a/5x5_reduce', kernel_regularizer=l2(0.0002))(pool2_3x3_s2)\n",
        "inception_3a_5x5_pad = ZeroPadding2D(padding=(2, 2))(inception_3a_5x5_reduce)\n",
        "inception_3a_5x5 = Conv2D(32, (5,5), padding='valid', activation='relu', name='inception_3a/5x5', kernel_regularizer=l2(0.0002))(inception_3a_5x5_pad)\n",
        "inception_3a_pool = MaxPooling2D(pool_size=(3,3), strides=(1,1), padding='same', name='inception_3a/pool')(pool2_3x3_s2)\n",
        "inception_3a_pool_proj = Conv2D(32, (1,1), padding='same', activation='relu', name='inception_3a/pool_proj', kernel_regularizer=l2(0.0002))(inception_3a_pool)\n",
        "inception_3a_output = Concatenate(axis=1, name='inception_3a/output')([inception_3a_1x1,inception_3a_3x3,inception_3a_5x5,inception_3a_pool_proj])\n",
        "\n",
        "inception_3b_1x1 = Conv2D(128, (1,1), padding='same', activation='relu', name='inception_3b/1x1', kernel_regularizer=l2(0.0002))(inception_3a_output)\n",
        "inception_3b_3x3_reduce = Conv2D(128, (1,1), padding='same', activation='relu', name='inception_3b/3x3_reduce', kernel_regularizer=l2(0.0002))(inception_3a_output)\n",
        "inception_3b_3x3_pad = ZeroPadding2D(padding=(1, 1))(inception_3b_3x3_reduce)\n",
        "inception_3b_3x3 = Conv2D(192, (3,3), padding='valid', activation='relu', name='inception_3b/3x3', kernel_regularizer=l2(0.0002))(inception_3b_3x3_pad)\n",
        "inception_3b_5x5_reduce = Conv2D(32, (1,1), padding='same', activation='relu', name='inception_3b/5x5_reduce', kernel_regularizer=l2(0.0002))(inception_3a_output)\n",
        "inception_3b_5x5_pad = ZeroPadding2D(padding=(2, 2))(inception_3b_5x5_reduce)\n",
        "inception_3b_5x5 = Conv2D(96, (5,5), padding='valid', activation='relu', name='inception_3b/5x5', kernel_regularizer=l2(0.0002))(inception_3b_5x5_pad)\n",
        "inception_3b_pool = MaxPooling2D(pool_size=(3,3), strides=(1,1), padding='same', name='inception_3b/pool')(inception_3a_output)\n",
        "inception_3b_pool_proj = Conv2D(64, (1,1), padding='same', activation='relu', name='inception_3b/pool_proj', kernel_regularizer=l2(0.0002))(inception_3b_pool)\n",
        "inception_3b_output = Concatenate(axis=1, name='inception_3b/output')([inception_3b_1x1,inception_3b_3x3,inception_3b_5x5,inception_3b_pool_proj])\n",
        "\n",
        "inception_3b_output_zero_pad = ZeroPadding2D(padding=(1, 1))(inception_3b_output)\n",
        "pool3_helper = PoolHelper()(inception_3b_output_zero_pad)\n",
        "pool3_3x3_s2 = MaxPooling2D(pool_size=(3,3), strides=(2,2), padding='valid', name='pool3/3x3_s2')(pool3_helper)\n",
        "\n",
        "inception_4a_1x1 = Conv2D(192, (1,1), padding='same', activation='relu', name='inception_4a/1x1', kernel_regularizer=l2(0.0002))(pool3_3x3_s2)\n",
        "inception_4a_3x3_reduce = Conv2D(96, (1,1), padding='same', activation='relu', name='inception_4a/3x3_reduce', kernel_regularizer=l2(0.0002))(pool3_3x3_s2)\n",
        "inception_4a_3x3_pad = ZeroPadding2D(padding=(1, 1))(inception_4a_3x3_reduce)\n",
        "inception_4a_3x3 = Conv2D(208, (3,3), padding='valid', activation='relu', name='inception_4a/3x3' ,kernel_regularizer=l2(0.0002))(inception_4a_3x3_pad)\n",
        "inception_4a_5x5_reduce = Conv2D(16, (1,1), padding='same', activation='relu', name='inception_4a/5x5_reduce', kernel_regularizer=l2(0.0002))(pool3_3x3_s2)\n",
        "inception_4a_5x5_pad = ZeroPadding2D(padding=(2, 2))(inception_4a_5x5_reduce)\n",
        "inception_4a_5x5 = Conv2D(48, (5,5), padding='valid', activation='relu', name='inception_4a/5x5', kernel_regularizer=l2(0.0002))(inception_4a_5x5_pad)\n",
        "inception_4a_pool = MaxPooling2D(pool_size=(3,3), strides=(1,1), padding='same', name='inception_4a/pool')(pool3_3x3_s2)\n",
        "inception_4a_pool_proj = Conv2D(64, (1,1), padding='same', activation='relu', name='inception_4a/pool_proj', kernel_regularizer=l2(0.0002))(inception_4a_pool)\n",
        "inception_4a_output = Concatenate(axis=1, name='inception_4a/output')([inception_4a_1x1,inception_4a_3x3,inception_4a_5x5,inception_4a_pool_proj])\n",
        "\n",
        "loss1_ave_pool = AveragePooling2D(pool_size=(5,5), strides=(3,3), name='loss1/ave_pool')(inception_4a_output)\n",
        "loss1_conv = Conv2D(128, (1,1), padding='same', activation='relu', name='loss1/conv', kernel_regularizer=l2(0.0002))(loss1_ave_pool)\n",
        "loss1_flat = Flatten()(loss1_conv)\n",
        "loss1_fc = Dense(1024, activation='relu', name='loss1/fc', kernel_regularizer=l2(0.0002))(loss1_flat)\n",
        "loss1_drop_fc = Dropout(rate=0.7)(loss1_fc)\n",
        "loss1_classifier = Dense(1000, name='loss1/classifier', kernel_regularizer=l2(0.0002))(loss1_drop_fc)\n",
        "loss1_classifier_act = Activation('softmax')(loss1_classifier)\n",
        "\n",
        "inception_4b_1x1 = Conv2D(160, (1,1), padding='same', activation='relu', name='inception_4b/1x1', kernel_regularizer=l2(0.0002))(inception_4a_output)\n",
        "inception_4b_3x3_reduce = Conv2D(112, (1,1), padding='same', activation='relu', name='inception_4b/3x3_reduce', kernel_regularizer=l2(0.0002))(inception_4a_output)\n",
        "inception_4b_3x3_pad = ZeroPadding2D(padding=(1, 1))(inception_4b_3x3_reduce)\n",
        "inception_4b_3x3 = Conv2D(224, (3,3), padding='valid', activation='relu', name='inception_4b/3x3', kernel_regularizer=l2(0.0002))(inception_4b_3x3_pad)\n",
        "inception_4b_5x5_reduce = Conv2D(24, (1,1), padding='same', activation='relu', name='inception_4b/5x5_reduce', kernel_regularizer=l2(0.0002))(inception_4a_output)\n",
        "inception_4b_5x5_pad = ZeroPadding2D(padding=(2, 2))(inception_4b_5x5_reduce)\n",
        "inception_4b_5x5 = Conv2D(64, (5,5), padding='valid', activation='relu', name='inception_4b/5x5', kernel_regularizer=l2(0.0002))(inception_4b_5x5_pad)\n",
        "inception_4b_pool = MaxPooling2D(pool_size=(3,3), strides=(1,1), padding='same', name='inception_4b/pool')(inception_4a_output)\n",
        "inception_4b_pool_proj = Conv2D(64, (1,1), padding='same', activation='relu', name='inception_4b/pool_proj', kernel_regularizer=l2(0.0002))(inception_4b_pool)\n",
        "inception_4b_output = Concatenate(axis=1, name='inception_4b/output')([inception_4b_1x1,inception_4b_3x3,inception_4b_5x5,inception_4b_pool_proj])\n",
        "\n",
        "inception_4c_1x1 = Conv2D(128, (1,1), padding='same', activation='relu', name='inception_4c/1x1', kernel_regularizer=l2(0.0002))(inception_4b_output)\n",
        "inception_4c_3x3_reduce = Conv2D(128, (1,1), padding='same', activation='relu', name='inception_4c/3x3_reduce', kernel_regularizer=l2(0.0002))(inception_4b_output)\n",
        "inception_4c_3x3_pad = ZeroPadding2D(padding=(1, 1))(inception_4c_3x3_reduce)\n",
        "inception_4c_3x3 = Conv2D(256, (3,3), padding='valid', activation='relu', name='inception_4c/3x3', kernel_regularizer=l2(0.0002))(inception_4c_3x3_pad)\n",
        "inception_4c_5x5_reduce = Conv2D(24, (1,1), padding='same', activation='relu', name='inception_4c/5x5_reduce', kernel_regularizer=l2(0.0002))(inception_4b_output)\n",
        "inception_4c_5x5_pad = ZeroPadding2D(padding=(2, 2))(inception_4c_5x5_reduce)\n",
        "inception_4c_5x5 = Conv2D(64, (5,5), padding='valid', activation='relu', name='inception_4c/5x5', kernel_regularizer=l2(0.0002))(inception_4c_5x5_pad)\n",
        "inception_4c_pool = MaxPooling2D(pool_size=(3,3), strides=(1,1), padding='same', name='inception_4c/pool')(inception_4b_output)\n",
        "inception_4c_pool_proj = Conv2D(64, (1,1), padding='same', activation='relu', name='inception_4c/pool_proj', kernel_regularizer=l2(0.0002))(inception_4c_pool)\n",
        "inception_4c_output = Concatenate(axis=1, name='inception_4c/output')([inception_4c_1x1,inception_4c_3x3,inception_4c_5x5,inception_4c_pool_proj])\n",
        "\n",
        "inception_4d_1x1 = Conv2D(112, (1,1), padding='same', activation='relu', name='inception_4d/1x1', kernel_regularizer=l2(0.0002))(inception_4c_output)\n",
        "inception_4d_3x3_reduce = Conv2D(144, (1,1), padding='same', activation='relu', name='inception_4d/3x3_reduce', kernel_regularizer=l2(0.0002))(inception_4c_output)\n",
        "inception_4d_3x3_pad = ZeroPadding2D(padding=(1, 1))(inception_4d_3x3_reduce)\n",
        "inception_4d_3x3 = Conv2D(288, (3,3), padding='valid', activation='relu', name='inception_4d/3x3', kernel_regularizer=l2(0.0002))(inception_4d_3x3_pad)\n",
        "inception_4d_5x5_reduce = Conv2D(32, (1,1), padding='same', activation='relu', name='inception_4d/5x5_reduce', kernel_regularizer=l2(0.0002))(inception_4c_output)\n",
        "inception_4d_5x5_pad = ZeroPadding2D(padding=(2, 2))(inception_4d_5x5_reduce)\n",
        "inception_4d_5x5 = Conv2D(64, (5,5), padding='valid', activation='relu', name='inception_4d/5x5', kernel_regularizer=l2(0.0002))(inception_4d_5x5_pad)\n",
        "inception_4d_pool = MaxPooling2D(pool_size=(3,3), strides=(1,1), padding='same', name='inception_4d/pool')(inception_4c_output)\n",
        "inception_4d_pool_proj = Conv2D(64, (1,1), padding='same', activation='relu', name='inception_4d/pool_proj', kernel_regularizer=l2(0.0002))(inception_4d_pool)\n",
        "inception_4d_output = Concatenate(axis=1, name='inception_4d/output')([inception_4d_1x1,inception_4d_3x3,inception_4d_5x5,inception_4d_pool_proj])\n",
        "\n",
        "loss2_ave_pool = AveragePooling2D(pool_size=(5,5), strides=(3,3), name='loss2/ave_pool')(inception_4d_output)\n",
        "loss2_conv = Conv2D(128, (1,1), padding='same', activation='relu', name='loss2/conv', kernel_regularizer=l2(0.0002))(loss2_ave_pool)\n",
        "loss2_flat = Flatten()(loss2_conv)\n",
        "loss2_fc = Dense(1024, activation='relu', name='loss2/fc', kernel_regularizer=l2(0.0002))(loss2_flat)\n",
        "loss2_drop_fc = Dropout(rate=0.7)(loss2_fc)\n",
        "loss2_classifier = Dense(1000, name='loss2/classifier', kernel_regularizer=l2(0.0002))(loss2_drop_fc)\n",
        "loss2_classifier_act = Activation('softmax')(loss2_classifier)\n",
        "\n",
        "inception_4e_1x1 = Conv2D(256, (1,1), padding='same', activation='relu', name='inception_4e/1x1', kernel_regularizer=l2(0.0002))(inception_4d_output)\n",
        "inception_4e_3x3_reduce = Conv2D(160, (1,1), padding='same', activation='relu', name='inception_4e/3x3_reduce', kernel_regularizer=l2(0.0002))(inception_4d_output)\n",
        "inception_4e_3x3_pad = ZeroPadding2D(padding=(1, 1))(inception_4e_3x3_reduce)\n",
        "inception_4e_3x3 = Conv2D(320, (3,3), padding='valid', activation='relu', name='inception_4e/3x3', kernel_regularizer=l2(0.0002))(inception_4e_3x3_pad)\n",
        "inception_4e_5x5_reduce = Conv2D(32, (1,1), padding='same', activation='relu', name='inception_4e/5x5_reduce', kernel_regularizer=l2(0.0002))(inception_4d_output)\n",
        "inception_4e_5x5_pad = ZeroPadding2D(padding=(2, 2))(inception_4e_5x5_reduce)\n",
        "inception_4e_5x5 = Conv2D(128, (5,5), padding='valid', activation='relu', name='inception_4e/5x5', kernel_regularizer=l2(0.0002))(inception_4e_5x5_pad)\n",
        "inception_4e_pool = MaxPooling2D(pool_size=(3,3), strides=(1,1), padding='same', name='inception_4e/pool')(inception_4d_output)\n",
        "inception_4e_pool_proj = Conv2D(128, (1,1), padding='same', activation='relu', name='inception_4e/pool_proj', kernel_regularizer=l2(0.0002))(inception_4e_pool)\n",
        "inception_4e_output = Concatenate(axis=1, name='inception_4e/output')([inception_4e_1x1,inception_4e_3x3,inception_4e_5x5,inception_4e_pool_proj])\n",
        "\n",
        "inception_4e_output_zero_pad = ZeroPadding2D(padding=(1, 1))(inception_4e_output)\n",
        "pool4_helper = PoolHelper()(inception_4e_output_zero_pad)\n",
        "pool4_3x3_s2 = MaxPooling2D(pool_size=(3,3), strides=(2,2), padding='valid', name='pool4/3x3_s2')(pool4_helper)\n",
        "\n",
        "inception_5a_1x1 = Conv2D(256, (1,1), padding='same', activation='relu', name='inception_5a/1x1', kernel_regularizer=l2(0.0002))(pool4_3x3_s2)\n",
        "inception_5a_3x3_reduce = Conv2D(160, (1,1), padding='same', activation='relu', name='inception_5a/3x3_reduce', kernel_regularizer=l2(0.0002))(pool4_3x3_s2)\n",
        "inception_5a_3x3_pad = ZeroPadding2D(padding=(1, 1))(inception_5a_3x3_reduce)\n",
        "inception_5a_3x3 = Conv2D(320, (3,3), padding='valid', activation='relu', name='inception_5a/3x3', kernel_regularizer=l2(0.0002))(inception_5a_3x3_pad)\n",
        "inception_5a_5x5_reduce = Conv2D(32, (1,1), padding='same', activation='relu', name='inception_5a/5x5_reduce', kernel_regularizer=l2(0.0002))(pool4_3x3_s2)\n",
        "inception_5a_5x5_pad = ZeroPadding2D(padding=(2, 2))(inception_5a_5x5_reduce)\n",
        "inception_5a_5x5 = Conv2D(128, (5,5), padding='valid', activation='relu', name='inception_5a/5x5', kernel_regularizer=l2(0.0002))(inception_5a_5x5_pad)\n",
        "inception_5a_pool = MaxPooling2D(pool_size=(3,3), strides=(1,1), padding='same', name='inception_5a/pool')(pool4_3x3_s2)\n",
        "inception_5a_pool_proj = Conv2D(128, (1,1), padding='same', activation='relu', name='inception_5a/pool_proj', kernel_regularizer=l2(0.0002))(inception_5a_pool)\n",
        "inception_5a_output = Concatenate(axis=1, name='inception_5a/output')([inception_5a_1x1,inception_5a_3x3,inception_5a_5x5,inception_5a_pool_proj])\n",
        "\n",
        "inception_5b_1x1 = Conv2D(384, (1,1), padding='same', activation='relu', name='inception_5b/1x1', kernel_regularizer=l2(0.0002))(inception_5a_output)\n",
        "inception_5b_3x3_reduce = Conv2D(192, (1,1), padding='same', activation='relu', name='inception_5b/3x3_reduce', kernel_regularizer=l2(0.0002))(inception_5a_output)\n",
        "inception_5b_3x3_pad = ZeroPadding2D(padding=(1, 1))(inception_5b_3x3_reduce)\n",
        "inception_5b_3x3 = Conv2D(384, (3,3), padding='valid', activation='relu', name='inception_5b/3x3', kernel_regularizer=l2(0.0002))(inception_5b_3x3_pad)\n",
        "inception_5b_5x5_reduce = Conv2D(48, (1,1), padding='same', activation='relu', name='inception_5b/5x5_reduce', kernel_regularizer=l2(0.0002))(inception_5a_output)\n",
        "inception_5b_5x5_pad = ZeroPadding2D(padding=(2, 2))(inception_5b_5x5_reduce)\n",
        "inception_5b_5x5 = Conv2D(128, (5,5), padding='valid', activation='relu', name='inception_5b/5x5', kernel_regularizer=l2(0.0002))(inception_5b_5x5_pad)\n",
        "inception_5b_pool = MaxPooling2D(pool_size=(3,3), strides=(1,1), padding='same', name='inception_5b/pool')(inception_5a_output)\n",
        "inception_5b_pool_proj = Conv2D(128, (1,1), padding='same', activation='relu', name='inception_5b/pool_proj', kernel_regularizer=l2(0.0002))(inception_5b_pool)\n",
        "inception_5b_output = Concatenate(axis=1, name='inception_5b/output')([inception_5b_1x1,inception_5b_3x3,inception_5b_5x5,inception_5b_pool_proj])\n",
        "\n",
        "pool5_7x7_s1 = AveragePooling2D(pool_size=(7,7), strides=(1,1), name='pool5/7x7_s2')(inception_5b_output)\n",
        "loss3_flat = Flatten()(pool5_7x7_s1)\n",
        "pool5_drop_7x7_s1 = Dropout(rate=0.4)(loss3_flat)\n",
        "loss3_classifier = Dense(1000, name='loss3/classifier', kernel_regularizer=l2(0.0002))(pool5_drop_7x7_s1)\n",
        "loss3_classifier_act = Activation('softmax', name='prob')(loss3_classifier)\n",
        "\n",
        "model(inputs=input, outputs=[loss1_classifier_act,loss2_classifier_act,loss3_classifier_act])\n",
        "\n",
        "\n",
        "sgd = SGD(lr=0.1, decay=1e-6, momentum=0.9, nesterov=True)\n",
        "model.compile(optimizer=sgd, loss='categorical_crossentropy')\n",
        "model.summary()"
      ],
      "execution_count": 0,
      "outputs": []
    },
    {
      "cell_type": "code",
      "metadata": {
        "id": "R8Z_XWE-pRiO",
        "colab_type": "code",
        "outputId": "b361e9cd-fb88-495a-9aaa-08009d58e5fd",
        "colab": {
          "base_uri": "https://localhost:8080/",
          "height": 229
        }
      },
      "source": [
        "history = model.fit_generator(train_generator,steps_per_epoch=2250/64,\n",
        "                              validation_data=test_generator,validation_steps=750/64, \n",
        "                              epochs=100, callbacks=[checkpointer, reduceLR, earlystopping])\n",
        "\n",
        "\n",
        "\n",
        "\n",
        "\n"
      ],
      "execution_count": 0,
      "outputs": [
        {
          "output_type": "error",
          "ename": "NameError",
          "evalue": "ignored",
          "traceback": [
            "\u001b[0;31m---------------------------------------------------------------------------\u001b[0m",
            "\u001b[0;31mNameError\u001b[0m                                 Traceback (most recent call last)",
            "\u001b[0;32m<ipython-input-5-92cbe185ef33>\u001b[0m in \u001b[0;36m<module>\u001b[0;34m()\u001b[0m\n\u001b[0;32m----> 1\u001b[0;31m train_generator = train_datagen.flow_from_directory(\n\u001b[0m\u001b[1;32m      2\u001b[0m         \u001b[0;34m\"/content/food-101/train\"\u001b[0m\u001b[0;34m,\u001b[0m\u001b[0;34m\u001b[0m\u001b[0;34m\u001b[0m\u001b[0m\n\u001b[1;32m      3\u001b[0m         \u001b[0mtarget_size\u001b[0m\u001b[0;34m=\u001b[0m\u001b[0;34m(\u001b[0m\u001b[0;36m224\u001b[0m\u001b[0;34m,\u001b[0m\u001b[0;36m224\u001b[0m\u001b[0;34m)\u001b[0m\u001b[0;34m,\u001b[0m\u001b[0;34m\u001b[0m\u001b[0;34m\u001b[0m\u001b[0m\n\u001b[1;32m      4\u001b[0m         batch_size=64)\n\u001b[1;32m      5\u001b[0m \u001b[0mtest_datagen\u001b[0m \u001b[0;34m=\u001b[0m \u001b[0mImageDataGenerator\u001b[0m\u001b[0;34m(\u001b[0m\u001b[0mrescale\u001b[0m\u001b[0;34m=\u001b[0m\u001b[0;36m1\u001b[0m\u001b[0;34m/\u001b[0m\u001b[0;36m255\u001b[0m\u001b[0;34m)\u001b[0m \u001b[0;31m# just rescale to [0-1] for testing set\u001b[0m\u001b[0;34m\u001b[0m\u001b[0;34m\u001b[0m\u001b[0m\n",
            "\u001b[0;31mNameError\u001b[0m: name 'train_datagen' is not defined"
          ]
        }
      ]
    },
    {
      "cell_type": "code",
      "metadata": {
        "id": "EVb7Do6VQu9f",
        "colab_type": "code",
        "outputId": "38325ffd-33df-4713-adb9-bc1f63c5abd3",
        "colab": {
          "base_uri": "https://localhost:8080/",
          "height": 50
        }
      },
      "source": [
        "pip install PoolHelper"
      ],
      "execution_count": 0,
      "outputs": [
        {
          "output_type": "stream",
          "text": [
            "\u001b[31mERROR: Could not find a version that satisfies the requirement PoolHelper (from versions: none)\u001b[0m\n",
            "\u001b[31mERROR: No matching distribution found for PoolHelper\u001b[0m\n"
          ],
          "name": "stdout"
        }
      ]
    },
    {
      "cell_type": "code",
      "metadata": {
        "id": "8Iv8tpMksI5r",
        "colab_type": "code",
        "outputId": "b5186b6f-f765-43f8-d387-fffa2974f743",
        "colab": {
          "base_uri": "https://localhost:8080/",
          "height": 756
        }
      },
      "source": [
        "model.summary()"
      ],
      "execution_count": 0,
      "outputs": [
        {
          "output_type": "stream",
          "text": [
            "Model: \"sequential_2\"\n",
            "_________________________________________________________________\n",
            "Layer (type)                 Output Shape              Param #   \n",
            "=================================================================\n",
            "conv2d_9 (Conv2D)            (None, 112, 112, 32)      2432      \n",
            "_________________________________________________________________\n",
            "conv2d_10 (Conv2D)           (None, 56, 56, 32)        25632     \n",
            "_________________________________________________________________\n",
            "max_pooling2d_4 (MaxPooling2 (None, 28, 28, 32)        0         \n",
            "_________________________________________________________________\n",
            "dropout_5 (Dropout)          (None, 28, 28, 32)        0         \n",
            "_________________________________________________________________\n",
            "conv2d_11 (Conv2D)           (None, 28, 28, 64)        18496     \n",
            "_________________________________________________________________\n",
            "conv2d_12 (Conv2D)           (None, 28, 28, 64)        36928     \n",
            "_________________________________________________________________\n",
            "max_pooling2d_5 (MaxPooling2 (None, 14, 14, 64)        0         \n",
            "_________________________________________________________________\n",
            "dropout_6 (Dropout)          (None, 14, 14, 64)        0         \n",
            "_________________________________________________________________\n",
            "conv2d_13 (Conv2D)           (None, 14, 14, 128)       32896     \n",
            "_________________________________________________________________\n",
            "conv2d_14 (Conv2D)           (None, 14, 14, 128)       65664     \n",
            "_________________________________________________________________\n",
            "max_pooling2d_6 (MaxPooling2 (None, 7, 7, 128)         0         \n",
            "_________________________________________________________________\n",
            "dropout_7 (Dropout)          (None, 7, 7, 128)         0         \n",
            "_________________________________________________________________\n",
            "conv2d_15 (Conv2D)           (None, 7, 7, 256)         131328    \n",
            "_________________________________________________________________\n",
            "conv2d_16 (Conv2D)           (None, 7, 7, 256)         262400    \n",
            "_________________________________________________________________\n",
            "global_average_pooling2d_2 ( (None, 256)               0         \n",
            "_________________________________________________________________\n",
            "dense_3 (Dense)              (None, 512)               131584    \n",
            "_________________________________________________________________\n",
            "dropout_8 (Dropout)          (None, 512)               0         \n",
            "_________________________________________________________________\n",
            "dense_4 (Dense)              (None, 101)               51813     \n",
            "=================================================================\n",
            "Total params: 759,173\n",
            "Trainable params: 759,173\n",
            "Non-trainable params: 0\n",
            "_________________________________________________________________\n"
          ],
          "name": "stdout"
        }
      ]
    },
    {
      "cell_type": "code",
      "metadata": {
        "id": "5moKOb5tzalt",
        "colab_type": "code",
        "colab": {}
      },
      "source": [
        ""
      ],
      "execution_count": 0,
      "outputs": []
    },
    {
      "cell_type": "code",
      "metadata": {
        "id": "ImMOBJBGzaLu",
        "colab_type": "code",
        "colab": {}
      },
      "source": [
        ""
      ],
      "execution_count": 0,
      "outputs": []
    },
    {
      "cell_type": "code",
      "metadata": {
        "id": "nI2QaiSWs2HW",
        "colab_type": "code",
        "outputId": "7670f1a0-58b9-4797-982c-141b252ec9c0",
        "colab": {
          "base_uri": "https://localhost:8080/",
          "height": 1000
        }
      },
      "source": [
        "history = model.fit_generator(train_generator,steps_per_epoch=2250/64,\n",
        "                              validation_data=test_generator,validation_steps=750/64, \n",
        "                              epochs=100, callbacks=[checkpointer, reduceLR, earlystopping])\n"
      ],
      "execution_count": 0,
      "outputs": [
        {
          "output_type": "stream",
          "text": [
            "Epoch 1/100\n",
            "36/35 [==============================] - 140s 4s/step - loss: 6.2189 - acc: 0.0074 - val_loss: 5.6888 - val_acc: 0.0091\n",
            "\n",
            "Epoch 00001: val_loss improved from inf to 5.68878, saving model to model.hdf5\n",
            "Epoch 2/100\n",
            "36/35 [==============================] - 131s 4s/step - loss: 5.3943 - acc: 0.0109 - val_loss: 5.1478 - val_acc: 0.0078\n",
            "\n",
            "Epoch 00002: val_loss improved from 5.68878 to 5.14781, saving model to model.hdf5\n",
            "Epoch 3/100\n",
            "36/35 [==============================] - 131s 4s/step - loss: 5.0048 - acc: 0.0082 - val_loss: 4.8849 - val_acc: 0.0156\n",
            "\n",
            "Epoch 00003: val_loss improved from 5.14781 to 4.88488, saving model to model.hdf5\n",
            "Epoch 4/100\n",
            "36/35 [==============================] - 133s 4s/step - loss: 4.8164 - acc: 0.0104 - val_loss: 4.7587 - val_acc: 0.0091\n",
            "\n",
            "Epoch 00004: val_loss improved from 4.88488 to 4.75873, saving model to model.hdf5\n",
            "Epoch 5/100\n",
            "36/35 [==============================] - 134s 4s/step - loss: 4.7249 - acc: 0.0130 - val_loss: 4.6964 - val_acc: 0.0052\n",
            "\n",
            "Epoch 00005: val_loss improved from 4.75873 to 4.69641, saving model to model.hdf5\n",
            "Epoch 6/100\n",
            "36/35 [==============================] - 129s 4s/step - loss: 4.6780 - acc: 0.0120 - val_loss: 4.6638 - val_acc: 0.0091\n",
            "\n",
            "Epoch 00006: val_loss improved from 4.69641 to 4.66375, saving model to model.hdf5\n",
            "Epoch 7/100\n",
            "36/35 [==============================] - 128s 4s/step - loss: 4.6547 - acc: 0.0113 - val_loss: 4.6454 - val_acc: 0.0130\n",
            "\n",
            "Epoch 00007: val_loss improved from 4.66375 to 4.64540, saving model to model.hdf5\n",
            "Epoch 8/100\n",
            "36/35 [==============================] - 127s 4s/step - loss: 4.6413 - acc: 0.0082 - val_loss: 4.6358 - val_acc: 0.0143\n",
            "\n",
            "Epoch 00008: val_loss improved from 4.64540 to 4.63580, saving model to model.hdf5\n",
            "Epoch 9/100\n",
            "36/35 [==============================] - 127s 4s/step - loss: 4.6327 - acc: 0.0109 - val_loss: 4.6299 - val_acc: 0.0078\n",
            "\n",
            "Epoch 00009: val_loss improved from 4.63580 to 4.62994, saving model to model.hdf5\n",
            "Epoch 10/100\n",
            "36/35 [==============================] - 127s 4s/step - loss: 4.6279 - acc: 0.0091 - val_loss: 4.6250 - val_acc: 0.0117\n",
            "\n",
            "Epoch 00010: val_loss improved from 4.62994 to 4.62502, saving model to model.hdf5\n",
            "Epoch 11/100\n",
            "36/35 [==============================] - 127s 4s/step - loss: 4.6269 - acc: 0.0091 - val_loss: 4.6345 - val_acc: 0.0117\n",
            "\n",
            "Epoch 00011: val_loss did not improve from 4.62502\n",
            "Epoch 12/100\n",
            "36/35 [==============================] - 126s 3s/step - loss: 4.6294 - acc: 0.0117 - val_loss: 4.6248 - val_acc: 0.0065\n",
            "\n",
            "Epoch 00012: val_loss improved from 4.62502 to 4.62484, saving model to model.hdf5\n",
            "Epoch 13/100\n",
            "36/35 [==============================] - 127s 4s/step - loss: 4.6225 - acc: 0.0130 - val_loss: 4.6215 - val_acc: 0.0104\n",
            "\n",
            "Epoch 00013: val_loss improved from 4.62484 to 4.62148, saving model to model.hdf5\n",
            "Epoch 14/100\n",
            "36/35 [==============================] - 127s 4s/step - loss: 4.6206 - acc: 0.0095 - val_loss: 4.6191 - val_acc: 0.0104\n",
            "\n",
            "Epoch 00014: val_loss improved from 4.62148 to 4.61914, saving model to model.hdf5\n",
            "Epoch 15/100\n",
            "36/35 [==============================] - 127s 4s/step - loss: 4.6195 - acc: 0.0100 - val_loss: 4.6185 - val_acc: 0.0117\n",
            "\n",
            "Epoch 00015: val_loss improved from 4.61914 to 4.61853, saving model to model.hdf5\n",
            "Epoch 16/100\n",
            "36/35 [==============================] - 127s 4s/step - loss: 4.6188 - acc: 0.0087 - val_loss: 4.6177 - val_acc: 0.0156\n",
            "\n",
            "Epoch 00016: val_loss improved from 4.61853 to 4.61775, saving model to model.hdf5\n",
            "Epoch 17/100\n",
            "36/35 [==============================] - 127s 4s/step - loss: 4.6184 - acc: 0.0048 - val_loss: 4.6166 - val_acc: 0.0065\n",
            "\n",
            "Epoch 00017: val_loss improved from 4.61775 to 4.61663, saving model to model.hdf5\n",
            "Epoch 18/100\n",
            "36/35 [==============================] - 128s 4s/step - loss: 4.6179 - acc: 0.0087 - val_loss: 4.6174 - val_acc: 0.0078\n",
            "\n",
            "Epoch 00018: val_loss did not improve from 4.61663\n",
            "Epoch 19/100\n",
            "36/35 [==============================] - 127s 4s/step - loss: 4.6174 - acc: 0.0065 - val_loss: 4.6171 - val_acc: 0.0078\n",
            "\n",
            "Epoch 00019: val_loss did not improve from 4.61663\n",
            "Epoch 20/100\n",
            "36/35 [==============================] - 127s 4s/step - loss: 4.6175 - acc: 0.0078 - val_loss: 4.6163 - val_acc: 0.0117\n",
            "\n",
            "Epoch 00020: val_loss improved from 4.61663 to 4.61627, saving model to model.hdf5\n",
            "Epoch 21/100\n",
            "36/35 [==============================] - 127s 4s/step - loss: 4.6167 - acc: 0.0109 - val_loss: 4.6168 - val_acc: 0.0117\n",
            "\n",
            "Epoch 00021: val_loss did not improve from 4.61627\n",
            "Epoch 22/100\n",
            "36/35 [==============================] - 127s 4s/step - loss: 4.6169 - acc: 0.0074 - val_loss: 4.6165 - val_acc: 0.0104\n",
            "\n",
            "Epoch 00022: val_loss did not improve from 4.61627\n",
            "Epoch 23/100\n",
            "36/35 [==============================] - 128s 4s/step - loss: 4.6170 - acc: 0.0087 - val_loss: 4.6159 - val_acc: 0.0052\n",
            "\n",
            "Epoch 00023: val_loss improved from 4.61627 to 4.61587, saving model to model.hdf5\n",
            "Epoch 24/100\n",
            "36/35 [==============================] - 129s 4s/step - loss: 4.6165 - acc: 0.0061 - val_loss: 4.6168 - val_acc: 0.0117\n",
            "\n",
            "Epoch 00024: val_loss did not improve from 4.61587\n",
            "Epoch 25/100\n",
            "36/35 [==============================] - 128s 4s/step - loss: 4.6166 - acc: 0.0095 - val_loss: 4.6163 - val_acc: 0.0130\n",
            "\n",
            "Epoch 00025: val_loss did not improve from 4.61587\n",
            "Epoch 26/100\n",
            "36/35 [==============================] - 128s 4s/step - loss: 4.6165 - acc: 0.0087 - val_loss: 4.6150 - val_acc: 0.0091\n",
            "\n",
            "Epoch 00026: val_loss improved from 4.61587 to 4.61499, saving model to model.hdf5\n",
            "Epoch 27/100\n",
            "36/35 [==============================] - 129s 4s/step - loss: 4.6162 - acc: 0.0065 - val_loss: 4.6152 - val_acc: 0.0143\n",
            "\n",
            "Epoch 00027: val_loss did not improve from 4.61499\n",
            "Epoch 28/100\n",
            "36/35 [==============================] - 131s 4s/step - loss: 4.6162 - acc: 0.0078 - val_loss: 4.6154 - val_acc: 0.0078\n",
            "\n",
            "Epoch 00028: val_loss did not improve from 4.61499\n",
            "Epoch 29/100\n",
            "36/35 [==============================] - 130s 4s/step - loss: 4.6165 - acc: 0.0087 - val_loss: 4.6163 - val_acc: 0.0052\n",
            "\n",
            "Epoch 00029: val_loss did not improve from 4.61499\n",
            "Epoch 30/100\n",
            "36/35 [==============================] - 132s 4s/step - loss: 4.6163 - acc: 0.0048 - val_loss: 4.6157 - val_acc: 0.0104\n",
            "\n",
            "Epoch 00030: val_loss did not improve from 4.61499\n",
            "Epoch 31/100\n",
            "36/35 [==============================] - 131s 4s/step - loss: 4.6162 - acc: 0.0069 - val_loss: 4.6159 - val_acc: 0.0143\n",
            "\n",
            "Epoch 00031: val_loss did not improve from 4.61499\n",
            "Epoch 32/100\n",
            "36/35 [==============================] - 130s 4s/step - loss: 4.6161 - acc: 0.0065 - val_loss: 4.6152 - val_acc: 0.0078\n",
            "\n",
            "Epoch 00032: val_loss did not improve from 4.61499\n",
            "Epoch 33/100\n",
            "36/35 [==============================] - 124s 3s/step - loss: 4.6162 - acc: 0.0087 - val_loss: 4.6155 - val_acc: 0.0041\n",
            "\n",
            "Epoch 00033: val_loss did not improve from 4.61499\n",
            "Epoch 34/100\n",
            "36/35 [==============================] - 132s 4s/step - loss: 4.6153 - acc: 0.0100 - val_loss: 4.6158 - val_acc: 0.0039\n",
            "\n",
            "Epoch 00034: val_loss did not improve from 4.61499\n"
          ],
          "name": "stdout"
        }
      ]
    },
    {
      "cell_type": "code",
      "metadata": {
        "id": "1RaeCWF3s9f9",
        "colab_type": "code",
        "outputId": "40fa928b-c1d1-4424-e66d-a33deb3fe913",
        "colab": {
          "base_uri": "https://localhost:8080/",
          "height": 34
        }
      },
      "source": [
        "val_datagen = ImageDataGenerator(rescale=1./255)\n",
        "val_generator = test_datagen.flow_from_directory(\n",
        "        \"/content/food-101/test\",\n",
        "        target_size=(224,224),\n",
        "        batch_size=750)"
      ],
      "execution_count": 0,
      "outputs": [
        {
          "output_type": "stream",
          "text": [
            "Found 25250 images belonging to 101 classes.\n"
          ],
          "name": "stdout"
        }
      ]
    },
    {
      "cell_type": "code",
      "metadata": {
        "id": "xSpoA7lpE0Wy",
        "colab_type": "code",
        "outputId": "f6555ea9-d621-4e88-aa27-4aeee8d422b3",
        "colab": {
          "base_uri": "https://localhost:8080/",
          "height": 34
        }
      },
      "source": [
        "x_test, y_test = val_generator.next()\n",
        "y_pred_conf = model.predict(x_test) #return probabilities of each class\n",
        "y_pred = np.argmax(y_pred_conf,axis=1)\n",
        "y_label = np.argmax(y_test,axis=1)\n",
        "\n",
        "print('Accuracy score: {:.1f}%'.format(accuracy_score(y_pred,y_label)*100))"
      ],
      "execution_count": 0,
      "outputs": [
        {
          "output_type": "stream",
          "text": [
            "Accuracy score: 1.1%\n"
          ],
          "name": "stdout"
        }
      ]
    },
    {
      "cell_type": "code",
      "metadata": {
        "id": "FviH07COE4lo",
        "colab_type": "code",
        "outputId": "f722b9ac-d224-450d-ea5d-c56b7b5b11c9",
        "colab": {
          "base_uri": "https://localhost:8080/",
          "height": 791
        }
      },
      "source": [
        "ind = np.random.randint(1,len(x_test),5)\n",
        "f, ax=plt.subplots(1,5,figsize=(20,10))\n",
        "for i,j in enumerate(ind):\n",
        "    ax[i].imshow(x_test[j])\n",
        "    ax[i].set_title(\"Pred :{}({:.2f})\\nTrue :{}({:.2f})\".format\n",
        "                          (classtolabel[str(y_pred[j])],np.max(y_pred_conf[j]),\n",
        "                           classtolabel[str(y_label[j])],y_pred_conf[j][(y_label[j])],fontweight=\"bold\", size=20))"
      ],
      "execution_count": 0,
      "outputs": [
        {
          "output_type": "error",
          "ename": "NameError",
          "evalue": "ignored",
          "traceback": [
            "\u001b[0;31m---------------------------------------------------------------------------\u001b[0m",
            "\u001b[0;31mNameError\u001b[0m                                 Traceback (most recent call last)",
            "\u001b[0;32m<ipython-input-13-22f87aef1d1e>\u001b[0m in \u001b[0;36m<module>\u001b[0;34m()\u001b[0m\n\u001b[1;32m      4\u001b[0m     \u001b[0max\u001b[0m\u001b[0;34m[\u001b[0m\u001b[0mi\u001b[0m\u001b[0;34m]\u001b[0m\u001b[0;34m.\u001b[0m\u001b[0mimshow\u001b[0m\u001b[0;34m(\u001b[0m\u001b[0mx_test\u001b[0m\u001b[0;34m[\u001b[0m\u001b[0mj\u001b[0m\u001b[0;34m]\u001b[0m\u001b[0;34m)\u001b[0m\u001b[0;34m\u001b[0m\u001b[0;34m\u001b[0m\u001b[0m\n\u001b[1;32m      5\u001b[0m     ax[i].set_title(\"Pred :{}({:.2f})\\nTrue :{}({:.2f})\".format\n\u001b[0;32m----> 6\u001b[0;31m                           (classtolabel[str(y_pred[j])],np.max(y_pred_conf[j]),\n\u001b[0m\u001b[1;32m      7\u001b[0m                            classtolabel[str(y_label[j])],y_pred_conf[j][(y_label[j])],fontweight=\"bold\", size=20))\n",
            "\u001b[0;31mNameError\u001b[0m: name 'classtolabel' is not defined"
          ]
        },
        {
          "output_type": "display_data",
          "data": {
            "image/png": "[encoded data removed]",
            "text/plain": [
              "<Figure size 1440x720 with 5 Axes>"
            ]
          },
          "metadata": {
            "tags": []
          }
        }
      ]
    },
    {
      "cell_type": "code",
      "metadata": {
        "id": "88KTLB5jE-vt",
        "colab_type": "code",
        "colab": {}
      },
      "source": [
        ""
      ],
      "execution_count": 0,
      "outputs": []
    }
  ]
}